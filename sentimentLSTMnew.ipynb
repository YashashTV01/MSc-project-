{
 "cells": [
  {
   "cell_type": "code",
   "execution_count": 1,
   "metadata": {},
   "outputs": [
    {
     "name": "stderr",
     "output_type": "stream",
     "text": [
      "/usr/lib/python3/dist-packages/scipy/__init__.py:146: UserWarning: A NumPy version >=1.17.3 and <1.25.0 is required for this version of SciPy (detected version 1.26.4\n",
      "  warnings.warn(f\"A NumPy version >={np_minversion} and <{np_maxversion}\"\n",
      "2024-03-25 10:39:41.485526: I external/local_tsl/tsl/cuda/cudart_stub.cc:31] Could not find cuda drivers on your machine, GPU will not be used.\n",
      "2024-03-25 10:39:41.548137: E external/local_xla/xla/stream_executor/cuda/cuda_dnn.cc:9261] Unable to register cuDNN factory: Attempting to register factory for plugin cuDNN when one has already been registered\n",
      "2024-03-25 10:39:41.548185: E external/local_xla/xla/stream_executor/cuda/cuda_fft.cc:607] Unable to register cuFFT factory: Attempting to register factory for plugin cuFFT when one has already been registered\n",
      "2024-03-25 10:39:41.549347: E external/local_xla/xla/stream_executor/cuda/cuda_blas.cc:1515] Unable to register cuBLAS factory: Attempting to register factory for plugin cuBLAS when one has already been registered\n",
      "2024-03-25 10:39:41.555181: I external/local_tsl/tsl/cuda/cudart_stub.cc:31] Could not find cuda drivers on your machine, GPU will not be used.\n",
      "2024-03-25 10:39:41.555926: I tensorflow/core/platform/cpu_feature_guard.cc:182] This TensorFlow binary is optimized to use available CPU instructions in performance-critical operations.\n",
      "To enable the following instructions: AVX2 FMA, in other operations, rebuild TensorFlow with the appropriate compiler flags.\n",
      "2024-03-25 10:39:42.604548: W tensorflow/compiler/tf2tensorrt/utils/py_utils.cc:38] TF-TRT Warning: Could not find TensorRT\n"
     ]
    }
   ],
   "source": [
    "import pandas as pd\n",
    "import numpy as np\n",
    "from sklearn.model_selection import train_test_split\n",
    "from tensorflow.keras.preprocessing.text import Tokenizer\n",
    "from tensorflow.keras.preprocessing.sequence import pad_sequences\n",
    "from tensorflow.keras.models import Sequential\n",
    "from tensorflow.keras.layers import Embedding, LSTM, Dense\n",
    "from sklearn.ensemble import RandomForestClassifier\n",
    "from sklearn.feature_extraction.text import CountVectorizer\n",
    "from sklearn.model_selection import train_test_split\n",
    "from sklearn.metrics import accuracy_score\n",
    "import pandas as pd\n",
    "from tensorflow.keras.models import Sequential\n",
    "from tensorflow.keras.layers import Embedding, LSTM, Dense, SpatialDropout1D\n",
    "from tensorflow.keras.preprocessing.text import Tokenizer\n",
    "from tensorflow.keras.preprocessing.sequence import pad_sequences\n",
    "from sklearn.model_selection import train_test_split\n",
    "import pandas as pd\n"
   ]
  },
  {
   "cell_type": "code",
   "execution_count": 2,
   "metadata": {},
   "outputs": [],
   "source": [
    "df = pd.read_csv(\"final.csv\")"
   ]
  },
  {
   "cell_type": "code",
   "execution_count": 3,
   "metadata": {},
   "outputs": [],
   "source": [
    "df_subset = df.sample(n=20000, random_state=42)"
   ]
  },
  {
   "cell_type": "code",
   "execution_count": 10,
   "metadata": {},
   "outputs": [
    {
     "name": "stdout",
     "output_type": "stream",
     "text": [
      "Epoch 1/10\n",
      "400/400 [==============================] - 51s 125ms/step - loss: 1.2498 - accuracy: 0.5011 - val_loss: 1.0868 - val_accuracy: 0.5947\n",
      "Epoch 2/10\n",
      "400/400 [==============================] - 43s 106ms/step - loss: 0.8677 - accuracy: 0.6809 - val_loss: 0.8779 - val_accuracy: 0.6681\n",
      "Epoch 3/10\n",
      "400/400 [==============================] - 41s 102ms/step - loss: 0.5878 - accuracy: 0.7838 - val_loss: 0.7958 - val_accuracy: 0.6963\n",
      "Epoch 4/10\n",
      "400/400 [==============================] - 41s 102ms/step - loss: 0.4376 - accuracy: 0.8442 - val_loss: 0.7693 - val_accuracy: 0.7287\n",
      "Epoch 5/10\n",
      "400/400 [==============================] - 41s 103ms/step - loss: 0.3399 - accuracy: 0.8827 - val_loss: 0.8958 - val_accuracy: 0.7225\n",
      "Epoch 6/10\n",
      "400/400 [==============================] - 49s 123ms/step - loss: 0.2751 - accuracy: 0.9063 - val_loss: 0.8904 - val_accuracy: 0.7400\n",
      "Epoch 7/10\n",
      "400/400 [==============================] - 47s 119ms/step - loss: 0.2284 - accuracy: 0.9245 - val_loss: 0.9946 - val_accuracy: 0.7209\n",
      "Epoch 8/10\n",
      "400/400 [==============================] - 46s 114ms/step - loss: 0.1804 - accuracy: 0.9398 - val_loss: 1.0190 - val_accuracy: 0.7275\n",
      "Epoch 9/10\n",
      "400/400 [==============================] - 48s 120ms/step - loss: 0.1463 - accuracy: 0.9530 - val_loss: 1.1440 - val_accuracy: 0.7191\n",
      "Epoch 10/10\n",
      "400/400 [==============================] - 46s 115ms/step - loss: 0.1208 - accuracy: 0.9608 - val_loss: 1.2201 - val_accuracy: 0.7194\n",
      "125/125 [==============================] - 3s 21ms/step - loss: 1.2372 - accuracy: 0.7130\n",
      "Test Accuracy: 71.29999995231628\n"
     ]
    }
   ],
   "source": [
    "\n",
    "\n",
    "\n",
    "X = df_subset['sentence_spacy'].astype(str)\n",
    "y = df_subset['SentimentLabel']\n",
    "max_words = 10000\n",
    "maxlen = 100\n",
    "\n",
    "tokenizer = Tokenizer(num_words=max_words)\n",
    "tokenizer.fit_on_texts(X)\n",
    "sequences = tokenizer.texts_to_sequences(X)\n",
    "X_pad = pad_sequences(sequences, maxlen=maxlen)\n",
    "\n",
    "label_dict = {'Negative': 0, 'Neutral': 1, 'Positive': 2, 'VeryNegative': 3, 'VeryPositive': 4}\n",
    "y = y.map(label_dict)\n",
    "\n",
    "X_train, X_test, y_train, y_test = train_test_split(X_pad, y, test_size=0.2, random_state=42)\n",
    "\n",
    "embedding_dim = 100\n",
    "vocab_size = len(tokenizer.word_index) + 1\n",
    "\n",
    "model = Sequential()\n",
    "model.add(Embedding(input_dim=vocab_size, output_dim=embedding_dim, input_length=maxlen))\n",
    "model.add(SpatialDropout1D(0.2))  \n",
    "model.add(LSTM(units=128, dropout=0.2, recurrent_dropout=0.2))\n",
    "model.add(Dense(units=64, activation='relu')) \n",
    "model.add(Dense(units=5, activation='softmax'))\n",
    "\n",
    "model.compile(loss='sparse_categorical_crossentropy', optimizer='adam', metrics=['accuracy'])\n",
    "\n",
    "model.fit(X_train, y_train, batch_size=32, epochs=10, validation_split=0.2)\n",
    "\n",
    "loss, accuracy = model.evaluate(X_test, y_test)\n",
    "print(\"Test Accuracy:\", accuracy*100)\n"
   ]
  },
  {
   "cell_type": "code",
   "execution_count": null,
   "metadata": {},
   "outputs": [],
   "source": []
  },
  {
   "cell_type": "code",
   "execution_count": null,
   "metadata": {},
   "outputs": [],
   "source": []
  },
  {
   "cell_type": "code",
   "execution_count": 12,
   "metadata": {},
   "outputs": [
    {
     "name": "stdout",
     "output_type": "stream",
     "text": [
      "Test Accuracy: 54.125\n"
     ]
    }
   ],
   "source": [
    "\n",
    "\n",
    "\n",
    "X = df_subset['sentence_spacy'].astype(str)\n",
    "y = df_subset['SentimentLabel']\n",
    "\n",
    "vectorizer = CountVectorizer(max_features=10000)\n",
    "X_vectorized = vectorizer.fit_transform(X)\n",
    "\n",
    "\n",
    "X_train, X_test, y_train, y_test = train_test_split(X_vectorized, y, test_size=0.2, random_state=42)\n",
    "\n",
    "\n",
    "rf_classifier = RandomForestClassifier(n_estimators=100, random_state=42)\n",
    "rf_classifier.fit(X_train, y_train)\n",
    "\n",
    "y_pred = rf_classifier.predict(X_test)\n",
    "\n",
    "accuracy = accuracy_score(y_test, y_pred)\n",
    "print(\"Test Accuracy:\", accuracy * 100)\n"
   ]
  },
  {
   "cell_type": "code",
   "execution_count": null,
   "metadata": {},
   "outputs": [],
   "source": []
  }
 ],
 "metadata": {
  "kernelspec": {
   "display_name": "Python 3",
   "language": "python",
   "name": "python3"
  },
  "language_info": {
   "codemirror_mode": {
    "name": "ipython",
    "version": 3
   },
   "file_extension": ".py",
   "mimetype": "text/x-python",
   "name": "python",
   "nbconvert_exporter": "python",
   "pygments_lexer": "ipython3",
   "version": "3.10.12"
  }
 },
 "nbformat": 4,
 "nbformat_minor": 2
}
